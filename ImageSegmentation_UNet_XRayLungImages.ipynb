{
  "nbformat": 4,
  "nbformat_minor": 0,
  "metadata": {
    "colab": {
      "name": "ImageSegmentation-UNet-XRayLungImages.ipynb",
      "provenance": [],
      "collapsed_sections": [],
      "authorship_tag": "ABX9TyNyaQS6zHFdrQwP9gx/sWl9",
      "include_colab_link": true
    },
    "kernelspec": {
      "name": "python3",
      "display_name": "Python 3"
    },
    "language_info": {
      "name": "python"
    },
    "accelerator": "GPU",
    "gpuClass": "standard"
  },
  "cells": [
    {
      "cell_type": "markdown",
      "metadata": {
        "id": "view-in-github",
        "colab_type": "text"
      },
      "source": [
        "<a href=\"https://colab.research.google.com/github/achmadbauravindah/ImageSegmentation-UNet-XRayLungImages/blob/main/ImageSegmentation_UNet_XRayLungImages.ipynb\" target=\"_parent\"><img src=\"https://colab.research.google.com/assets/colab-badge.svg\" alt=\"Open In Colab\"/></a>"
      ]
    },
    {
      "cell_type": "code",
      "source": [
        "import tensorflow as tf\n",
        "from keras.layers import Input, Conv2D, MaxPool2D, Concatenate, Dropout, Lambda, Conv2DTranspose\n",
        "from keras.preprocessing.image import ImageDataGenerator\n",
        "from keras.preprocessing.image import load_img, array_to_img, img_to_array\n",
        "\n",
        "import matplotlib.pyplot as plt\n",
        "import numpy as np\n",
        "from tqdm import tqdm\n",
        "import os"
      ],
      "metadata": {
        "id": "5JtgzDISq_oR"
      },
      "execution_count": 1,
      "outputs": []
    },
    {
      "cell_type": "code",
      "execution_count": 2,
      "metadata": {
        "id": "Kgx64rK4qqFn"
      },
      "outputs": [],
      "source": [
        "# Get data from Kaggle\n",
        "_ = ! git clone https://github.com/achmadbauravindah/ravin_kaggle_credential.git # get credential from kaggle\n",
        "_ = ! pip install kaggle # install kaggle on device\n",
        "_ = ! mkdir ~/.kaggle # make hidden folder .kaggle to configure credential\n",
        "_ = ! cp ravin_kaggle_credential/kaggle.json ~/.kaggle/ # copy credential from github to .kaggle folder\n",
        "_ = ! chmod 600 ~/.kaggle/kaggle.json # change access\n",
        "_ = ! kaggle datasets download x-ray-scan-lung-images # which dataset to download\n",
        "_ = ! unzip x-ray-scan-lung-images # unzip if data zipped"
      ]
    },
    {
      "cell_type": "markdown",
      "source": [
        "### Global Variable"
      ],
      "metadata": {
        "id": "Elep1mVGsQSA"
      }
    },
    {
      "cell_type": "code",
      "source": [
        "# SET UP GLOBAL VARIABLE\n",
        "DEFAULT_IMG_WIDTH = 512\n",
        "DEFAULT_IMG_HEIGHT = 512\n",
        "IMG_WIDTH = 512\n",
        "IMG_HEIGHT = 512\n",
        "IMG_CHANNELS = 3\n",
        "DATA_PATH = 'dataset_x_ray_scan_lung_images'"
      ],
      "metadata": {
        "id": "iSLPb-5-r3Kv"
      },
      "execution_count": 3,
      "outputs": []
    },
    {
      "cell_type": "markdown",
      "source": [
        "## Preprocessing data"
      ],
      "metadata": {
        "id": "hKKPyfYOsrt_"
      }
    },
    {
      "cell_type": "code",
      "source": [
        "sample_image_path = os.path.join(DATA_PATH, 'train', 'image', 'cxrimage_0.png')\n",
        "image_default_pixel = img_to_array(load_img(sample_image_path))\n",
        "image_default_pixel.shape"
      ],
      "metadata": {
        "colab": {
          "base_uri": "https://localhost:8080/"
        },
        "id": "-HR6Q0K_9yQq",
        "outputId": "44dcf272-09b2-4825-f4ce-8a99ee1e20c9"
      },
      "execution_count": 4,
      "outputs": [
        {
          "output_type": "execute_result",
          "data": {
            "text/plain": [
              "(512, 512, 3)"
            ]
          },
          "metadata": {},
          "execution_count": 4
        }
      ]
    },
    {
      "cell_type": "code",
      "source": [
        "def getArrImages(path, total = 100):\n",
        "  # saved array\n",
        "  images_arr = []\n",
        "  masks_arr = []\n",
        "\n",
        "  # Set Path image and mask\n",
        "  images_path = os.path.join(path, 'image')\n",
        "  masks_path = os.path.join(path, 'mask')\n",
        "\n",
        "  # total_images in directory\n",
        "  # images_total = len(os.listdir(images_path))\n",
        "  # masks_total = len(os.listdir(masks_path))\n",
        "  # total = images_total # images and masks have same total\n",
        "  \n",
        "  # Get array from images and masks\n",
        "  for idx in tqdm(range(total)):\n",
        "    # IMAGES\n",
        "    image_path = images_path + '/cxrimage_' + str(idx) +'.png'\n",
        "    image = load_img(image_path, color_mode='rgb', target_size=(IMG_HEIGHT, IMG_WIDTH))\n",
        "    image_arr = img_to_array(image).astype('float32') / 255.0\n",
        "    images_arr.append(image_arr)\n",
        "    # MASKS\n",
        "    mask_path = masks_path + '/cxrmask_' + str(idx) +'.jpeg'\n",
        "    mask = load_img(mask_path, color_mode='grayscale', target_size=(IMG_HEIGHT, IMG_WIDTH))\n",
        "    mask_arr = img_to_array(mask).astype('float32') / 255.0\n",
        "    masks_arr.append(mask_arr)\n",
        "\n",
        "  return np.array(images_arr), np.array(masks_arr)\n"
      ],
      "metadata": {
        "id": "7_kGDxnxt4xO"
      },
      "execution_count": 5,
      "outputs": []
    },
    {
      "cell_type": "code",
      "source": [
        "# Create Path\n",
        "path_train = os.path.join(os.getcwd(), DATA_PATH, 'train')\n",
        "path_val = os.path.join(os.getcwd(), DATA_PATH, 'val')\n",
        "path_test = os.path.join(os.getcwd(), DATA_PATH, 'test')"
      ],
      "metadata": {
        "id": "gvrziUMLr7eg"
      },
      "execution_count": 6,
      "outputs": []
    },
    {
      "cell_type": "code",
      "source": [
        "# Call getArrImages to Get Array All Images and Data\n",
        "train_images, train_masks = getArrImages(path_train, 200)\n",
        "val_images, val_masks = getArrImages(path_val, 20)\n",
        "test_images, test_masks = getArrImages(path_test, 20)"
      ],
      "metadata": {
        "colab": {
          "base_uri": "https://localhost:8080/"
        },
        "id": "KZL7R0Jx7Y1-",
        "outputId": "75c5ae59-ccd7-4bc7-a07b-953430c41157"
      },
      "execution_count": 7,
      "outputs": [
        {
          "output_type": "stream",
          "name": "stderr",
          "text": [
            "100%|██████████| 200/200 [00:03<00:00, 58.77it/s]\n",
            "100%|██████████| 20/20 [00:00<00:00, 61.74it/s]\n",
            "100%|██████████| 20/20 [00:00<00:00, 49.59it/s]\n"
          ]
        }
      ]
    },
    {
      "cell_type": "code",
      "source": [
        "# Shape All Data\n",
        "print(\"Shape of Training Data - Images: {}, Masks: {}\".format(train_images.shape, train_masks.shape))\n",
        "print(\"Shape of Validation Data - Images: {}, Masks: {}\".format(val_images.shape, val_masks.shape))\n",
        "print(\"Shape of Testing Data - Images: {}, Masks: {}\".format(test_images.shape, test_masks.shape))"
      ],
      "metadata": {
        "colab": {
          "base_uri": "https://localhost:8080/"
        },
        "id": "2yL_ujbiBk2j",
        "outputId": "055648f7-a54d-4011-9f92-d01fc47320f5"
      },
      "execution_count": 8,
      "outputs": [
        {
          "output_type": "stream",
          "name": "stdout",
          "text": [
            "Shape of Training Data - Images: (200, 512, 512, 3), Masks: (200, 512, 512, 1)\n",
            "Shape of Validation Data - Images: (20, 512, 512, 3), Masks: (20, 512, 512, 1)\n",
            "Shape of Testing Data - Images: (20, 512, 512, 3), Masks: (20, 512, 512, 1)\n"
          ]
        }
      ]
    },
    {
      "cell_type": "markdown",
      "source": [
        "### Model UNet Building for Segmentation\n"
      ],
      "metadata": {
        "id": "vzN99Bq-C0Hn"
      }
    },
    {
      "cell_type": "code",
      "source": [
        "# UNet Model\n",
        "inputs = Input((IMG_WIDTH, IMG_HEIGHT, IMG_CHANNELS))\n",
        "\n",
        "# Construction\n",
        "c1 = Conv2D(16, (3,3), activation='relu', kernel_initializer='he_normal', padding='same')(inputs)\n",
        "c1 = Dropout(0.1)(c1)\n",
        "c1 = Conv2D(16, (3,3), activation='relu', kernel_initializer='he_normal', padding='same')(c1)\n",
        "p1 = MaxPool2D((2,2))(c1)\n",
        "\n",
        "c2 = Conv2D(32, (3,3), activation='relu', kernel_initializer='he_normal', padding='same')(p1) \n",
        "c2 = Dropout(0.1)(c2)\n",
        "c2 = Conv2D(32, (3,3), activation='relu', kernel_initializer='he_normal', padding='same')(c2)\n",
        "p2 = MaxPool2D((2,2))(c2)\n",
        "\n",
        "c3 = Conv2D(64, (3,3), activation='relu', kernel_initializer='he_normal', padding='same')(p2)\n",
        "c3 = Dropout(0.2)(c3)\n",
        "c3 = Conv2D(64, (3,3), activation='relu', kernel_initializer='he_normal', padding='same')(c3)\n",
        "p3 = MaxPool2D((2,2))(c3)\n",
        "\n",
        "c4 = Conv2D(128, (3,3), activation='relu', kernel_initializer='he_normal', padding='same')(p3)\n",
        "c4 = Dropout(0.2)(c4)\n",
        "c4 = Conv2D(128, (3,3), activation='relu', kernel_initializer='he_normal', padding='same')(c4)\n",
        "p4 = MaxPool2D((2,2))(c4)\n",
        "\n",
        "\n",
        "c5 = Conv2D(256, (3,3), activation='relu', kernel_initializer='he_normal', padding='same')(p4)\n",
        "c5 = Dropout(0.3)(c5)\n",
        "c5 = Conv2D(256, (3,3), activation='relu', kernel_initializer='he_normal', padding='same')(c5)\n",
        "\n",
        "\n",
        "# Expansive\n",
        "u6 = Conv2DTranspose(128, (2,2), strides=(2,2), padding='same')(c5)\n",
        "u6 = tf.keras.layers.concatenate([u6, c4])\n",
        "c6 = Conv2D(128, (3,3), activation='relu', kernel_initializer='he_normal', padding='same')(u6)\n",
        "c6 = Dropout(0.2,)(c6)\n",
        "c6 = Conv2D(128, (3,3), activation='relu', kernel_initializer='he_normal', padding='same')(c6)\n",
        "\n",
        "u7 = Conv2DTranspose(64, (2,2), strides=(2,2), padding='same')(c6)\n",
        "u7 = tf.keras.layers.concatenate([u7, c3])\n",
        "c7 = Conv2D(64, (3,3), activation='relu', kernel_initializer='he_normal', padding='same')(u7)\n",
        "c7 = Dropout(0.2,)(c7)\n",
        "c7 = Conv2D(64, (3,3), activation='relu', kernel_initializer='he_normal', padding='same')(c7)\n",
        "\n",
        "u8 = Conv2DTranspose(32, (2,2), strides=(2,2), padding='same')(c7)\n",
        "u8 = tf.keras.layers.concatenate([u8, c2])\n",
        "c8 = Conv2D(32, (3,3), activation='relu', kernel_initializer='he_normal', padding='same')(u8)\n",
        "c8 = Dropout(0.1,)(c8)\n",
        "c8 = Conv2D(32, (3,3), activation='relu', kernel_initializer='he_normal', padding='same')(c8)\n",
        "\n",
        "u9 = Conv2DTranspose(16, (2,2), strides=(2,2), padding='same')(c8)\n",
        "u9 = tf.keras.layers.concatenate([u9, c1])\n",
        "c9 = Conv2D(16, (3,3), activation='relu', kernel_initializer='he_normal', padding='same')(u9)\n",
        "c9 = Dropout(0.1,)(c9)\n",
        "c9 = Conv2D(16, (3,3), activation='relu', kernel_initializer='he_normal', padding='same')(c9)\n",
        "\n",
        "outputs = Conv2D(1, (1,1), activation='sigmoid')(c9)\n",
        "\n",
        "model = tf.keras.Model(inputs=[inputs], outputs=[outputs])\n",
        "model.compile(optimizer='adam', loss='binary_crossentropy', metrics=['accuracy'])"
      ],
      "metadata": {
        "id": "nwbbfrtgtOD8"
      },
      "execution_count": 9,
      "outputs": []
    },
    {
      "cell_type": "code",
      "source": [
        "model.summary()"
      ],
      "metadata": {
        "id": "AYr9A3yJau_E",
        "colab": {
          "base_uri": "https://localhost:8080/"
        },
        "outputId": "325cdea2-8fd7-49d7-f869-19df8e0e440d"
      },
      "execution_count": 10,
      "outputs": [
        {
          "output_type": "stream",
          "name": "stdout",
          "text": [
            "Model: \"model\"\n",
            "__________________________________________________________________________________________________\n",
            " Layer (type)                   Output Shape         Param #     Connected to                     \n",
            "==================================================================================================\n",
            " input_1 (InputLayer)           [(None, 512, 512, 3  0           []                               \n",
            "                                )]                                                                \n",
            "                                                                                                  \n",
            " conv2d (Conv2D)                (None, 512, 512, 16  448         ['input_1[0][0]']                \n",
            "                                )                                                                 \n",
            "                                                                                                  \n",
            " dropout (Dropout)              (None, 512, 512, 16  0           ['conv2d[0][0]']                 \n",
            "                                )                                                                 \n",
            "                                                                                                  \n",
            " conv2d_1 (Conv2D)              (None, 512, 512, 16  2320        ['dropout[0][0]']                \n",
            "                                )                                                                 \n",
            "                                                                                                  \n",
            " max_pooling2d (MaxPooling2D)   (None, 256, 256, 16  0           ['conv2d_1[0][0]']               \n",
            "                                )                                                                 \n",
            "                                                                                                  \n",
            " conv2d_2 (Conv2D)              (None, 256, 256, 32  4640        ['max_pooling2d[0][0]']          \n",
            "                                )                                                                 \n",
            "                                                                                                  \n",
            " dropout_1 (Dropout)            (None, 256, 256, 32  0           ['conv2d_2[0][0]']               \n",
            "                                )                                                                 \n",
            "                                                                                                  \n",
            " conv2d_3 (Conv2D)              (None, 256, 256, 32  9248        ['dropout_1[0][0]']              \n",
            "                                )                                                                 \n",
            "                                                                                                  \n",
            " max_pooling2d_1 (MaxPooling2D)  (None, 128, 128, 32  0          ['conv2d_3[0][0]']               \n",
            "                                )                                                                 \n",
            "                                                                                                  \n",
            " conv2d_4 (Conv2D)              (None, 128, 128, 64  18496       ['max_pooling2d_1[0][0]']        \n",
            "                                )                                                                 \n",
            "                                                                                                  \n",
            " dropout_2 (Dropout)            (None, 128, 128, 64  0           ['conv2d_4[0][0]']               \n",
            "                                )                                                                 \n",
            "                                                                                                  \n",
            " conv2d_5 (Conv2D)              (None, 128, 128, 64  36928       ['dropout_2[0][0]']              \n",
            "                                )                                                                 \n",
            "                                                                                                  \n",
            " max_pooling2d_2 (MaxPooling2D)  (None, 64, 64, 64)  0           ['conv2d_5[0][0]']               \n",
            "                                                                                                  \n",
            " conv2d_6 (Conv2D)              (None, 64, 64, 128)  73856       ['max_pooling2d_2[0][0]']        \n",
            "                                                                                                  \n",
            " dropout_3 (Dropout)            (None, 64, 64, 128)  0           ['conv2d_6[0][0]']               \n",
            "                                                                                                  \n",
            " conv2d_7 (Conv2D)              (None, 64, 64, 128)  147584      ['dropout_3[0][0]']              \n",
            "                                                                                                  \n",
            " max_pooling2d_3 (MaxPooling2D)  (None, 32, 32, 128)  0          ['conv2d_7[0][0]']               \n",
            "                                                                                                  \n",
            " conv2d_8 (Conv2D)              (None, 32, 32, 256)  295168      ['max_pooling2d_3[0][0]']        \n",
            "                                                                                                  \n",
            " dropout_4 (Dropout)            (None, 32, 32, 256)  0           ['conv2d_8[0][0]']               \n",
            "                                                                                                  \n",
            " conv2d_9 (Conv2D)              (None, 32, 32, 256)  590080      ['dropout_4[0][0]']              \n",
            "                                                                                                  \n",
            " conv2d_transpose (Conv2DTransp  (None, 64, 64, 128)  131200     ['conv2d_9[0][0]']               \n",
            " ose)                                                                                             \n",
            "                                                                                                  \n",
            " concatenate (Concatenate)      (None, 64, 64, 256)  0           ['conv2d_transpose[0][0]',       \n",
            "                                                                  'conv2d_7[0][0]']               \n",
            "                                                                                                  \n",
            " conv2d_10 (Conv2D)             (None, 64, 64, 128)  295040      ['concatenate[0][0]']            \n",
            "                                                                                                  \n",
            " dropout_5 (Dropout)            (None, 64, 64, 128)  0           ['conv2d_10[0][0]']              \n",
            "                                                                                                  \n",
            " conv2d_11 (Conv2D)             (None, 64, 64, 128)  147584      ['dropout_5[0][0]']              \n",
            "                                                                                                  \n",
            " conv2d_transpose_1 (Conv2DTran  (None, 128, 128, 64  32832      ['conv2d_11[0][0]']              \n",
            " spose)                         )                                                                 \n",
            "                                                                                                  \n",
            " concatenate_1 (Concatenate)    (None, 128, 128, 12  0           ['conv2d_transpose_1[0][0]',     \n",
            "                                8)                                'conv2d_5[0][0]']               \n",
            "                                                                                                  \n",
            " conv2d_12 (Conv2D)             (None, 128, 128, 64  73792       ['concatenate_1[0][0]']          \n",
            "                                )                                                                 \n",
            "                                                                                                  \n",
            " dropout_6 (Dropout)            (None, 128, 128, 64  0           ['conv2d_12[0][0]']              \n",
            "                                )                                                                 \n",
            "                                                                                                  \n",
            " conv2d_13 (Conv2D)             (None, 128, 128, 64  36928       ['dropout_6[0][0]']              \n",
            "                                )                                                                 \n",
            "                                                                                                  \n",
            " conv2d_transpose_2 (Conv2DTran  (None, 256, 256, 32  8224       ['conv2d_13[0][0]']              \n",
            " spose)                         )                                                                 \n",
            "                                                                                                  \n",
            " concatenate_2 (Concatenate)    (None, 256, 256, 64  0           ['conv2d_transpose_2[0][0]',     \n",
            "                                )                                 'conv2d_3[0][0]']               \n",
            "                                                                                                  \n",
            " conv2d_14 (Conv2D)             (None, 256, 256, 32  18464       ['concatenate_2[0][0]']          \n",
            "                                )                                                                 \n",
            "                                                                                                  \n",
            " dropout_7 (Dropout)            (None, 256, 256, 32  0           ['conv2d_14[0][0]']              \n",
            "                                )                                                                 \n",
            "                                                                                                  \n",
            " conv2d_15 (Conv2D)             (None, 256, 256, 32  9248        ['dropout_7[0][0]']              \n",
            "                                )                                                                 \n",
            "                                                                                                  \n",
            " conv2d_transpose_3 (Conv2DTran  (None, 512, 512, 16  2064       ['conv2d_15[0][0]']              \n",
            " spose)                         )                                                                 \n",
            "                                                                                                  \n",
            " concatenate_3 (Concatenate)    (None, 512, 512, 32  0           ['conv2d_transpose_3[0][0]',     \n",
            "                                )                                 'conv2d_1[0][0]']               \n",
            "                                                                                                  \n",
            " conv2d_16 (Conv2D)             (None, 512, 512, 16  4624        ['concatenate_3[0][0]']          \n",
            "                                )                                                                 \n",
            "                                                                                                  \n",
            " dropout_8 (Dropout)            (None, 512, 512, 16  0           ['conv2d_16[0][0]']              \n",
            "                                )                                                                 \n",
            "                                                                                                  \n",
            " conv2d_17 (Conv2D)             (None, 512, 512, 16  2320        ['dropout_8[0][0]']              \n",
            "                                )                                                                 \n",
            "                                                                                                  \n",
            " conv2d_18 (Conv2D)             (None, 512, 512, 1)  17          ['conv2d_17[0][0]']              \n",
            "                                                                                                  \n",
            "==================================================================================================\n",
            "Total params: 1,941,105\n",
            "Trainable params: 1,941,105\n",
            "Non-trainable params: 0\n",
            "__________________________________________________________________________________________________\n"
          ]
        }
      ]
    },
    {
      "cell_type": "code",
      "source": [
        "# Model Training\n",
        "history = model.fit(train_images, \n",
        "                    train_masks, \n",
        "                    validation_data=(val_images, val_masks), \n",
        "                    batch_size=32,\n",
        "                    epochs=100)"
      ],
      "metadata": {
        "id": "JopVyZsri0fb",
        "colab": {
          "base_uri": "https://localhost:8080/"
        },
        "outputId": "2ef83852-3d88-4896-dc9e-2c0b15521346"
      },
      "execution_count": 12,
      "outputs": [
        {
          "output_type": "stream",
          "name": "stdout",
          "text": [
            "Epoch 1/100\n",
            "7/7 [==============================] - 8s 1s/step - loss: 0.4460 - accuracy: 0.7350 - val_loss: 0.4391 - val_accuracy: 0.7241\n",
            "Epoch 2/100\n",
            "7/7 [==============================] - 8s 1s/step - loss: 0.5097 - accuracy: 0.7350 - val_loss: 0.4766 - val_accuracy: 0.7236\n",
            "Epoch 3/100\n",
            "7/7 [==============================] - 8s 1s/step - loss: 0.4689 - accuracy: 0.7351 - val_loss: 0.4203 - val_accuracy: 0.7262\n",
            "Epoch 4/100\n",
            "7/7 [==============================] - 8s 1s/step - loss: 0.4414 - accuracy: 0.7361 - val_loss: 0.4274 - val_accuracy: 0.7485\n",
            "Epoch 5/100\n",
            "7/7 [==============================] - 8s 1s/step - loss: 0.4159 - accuracy: 0.7395 - val_loss: 0.3988 - val_accuracy: 0.7558\n",
            "Epoch 6/100\n",
            "7/7 [==============================] - 8s 1s/step - loss: 0.3944 - accuracy: 0.7496 - val_loss: 0.3751 - val_accuracy: 0.7972\n",
            "Epoch 7/100\n",
            "7/7 [==============================] - 8s 1s/step - loss: 0.3726 - accuracy: 0.7818 - val_loss: 0.3584 - val_accuracy: 0.8454\n",
            "Epoch 8/100\n",
            "7/7 [==============================] - 8s 1s/step - loss: 0.3548 - accuracy: 0.8175 - val_loss: 0.3630 - val_accuracy: 0.8756\n",
            "Epoch 9/100\n",
            "7/7 [==============================] - 8s 1s/step - loss: 0.3434 - accuracy: 0.8444 - val_loss: 0.4083 - val_accuracy: 0.8344\n",
            "Epoch 10/100\n",
            "7/7 [==============================] - 8s 1s/step - loss: 0.3419 - accuracy: 0.8559 - val_loss: 0.3645 - val_accuracy: 0.8655\n",
            "Epoch 11/100\n",
            "7/7 [==============================] - 8s 1s/step - loss: 0.3326 - accuracy: 0.8556 - val_loss: 0.3182 - val_accuracy: 0.8811\n",
            "Epoch 12/100\n",
            "7/7 [==============================] - 8s 1s/step - loss: 0.3293 - accuracy: 0.8585 - val_loss: 0.3423 - val_accuracy: 0.8628\n",
            "Epoch 13/100\n",
            "7/7 [==============================] - 8s 1s/step - loss: 0.3177 - accuracy: 0.8646 - val_loss: 0.3098 - val_accuracy: 0.8839\n",
            "Epoch 14/100\n",
            "7/7 [==============================] - 8s 1s/step - loss: 0.3161 - accuracy: 0.8632 - val_loss: 0.3102 - val_accuracy: 0.8819\n",
            "Epoch 15/100\n",
            "7/7 [==============================] - 8s 1s/step - loss: 0.2990 - accuracy: 0.8693 - val_loss: 0.2770 - val_accuracy: 0.8932\n",
            "Epoch 16/100\n",
            "7/7 [==============================] - 8s 1s/step - loss: 0.3014 - accuracy: 0.8673 - val_loss: 0.2721 - val_accuracy: 0.8933\n",
            "Epoch 17/100\n",
            "7/7 [==============================] - 8s 1s/step - loss: 0.2843 - accuracy: 0.8720 - val_loss: 0.3082 - val_accuracy: 0.8622\n",
            "Epoch 18/100\n",
            "7/7 [==============================] - 8s 1s/step - loss: 0.2656 - accuracy: 0.8771 - val_loss: 0.3335 - val_accuracy: 0.8437\n",
            "Epoch 19/100\n",
            "7/7 [==============================] - 8s 1s/step - loss: 0.2424 - accuracy: 0.8874 - val_loss: 0.2126 - val_accuracy: 0.9053\n",
            "Epoch 20/100\n",
            "7/7 [==============================] - 8s 1s/step - loss: 0.2291 - accuracy: 0.8903 - val_loss: 0.2525 - val_accuracy: 0.8867\n",
            "Epoch 21/100\n",
            "7/7 [==============================] - 8s 1s/step - loss: 0.2193 - accuracy: 0.8929 - val_loss: 0.2076 - val_accuracy: 0.9095\n",
            "Epoch 22/100\n",
            "7/7 [==============================] - 8s 1s/step - loss: 0.2302 - accuracy: 0.8853 - val_loss: 0.2414 - val_accuracy: 0.8930\n",
            "Epoch 23/100\n",
            "7/7 [==============================] - 8s 1s/step - loss: 0.2182 - accuracy: 0.8928 - val_loss: 0.1803 - val_accuracy: 0.9083\n",
            "Epoch 24/100\n",
            "7/7 [==============================] - 8s 1s/step - loss: 0.1887 - accuracy: 0.9036 - val_loss: 0.1563 - val_accuracy: 0.9223\n",
            "Epoch 25/100\n",
            "7/7 [==============================] - 8s 1s/step - loss: 0.1733 - accuracy: 0.9087 - val_loss: 0.1475 - val_accuracy: 0.9189\n",
            "Epoch 26/100\n",
            "7/7 [==============================] - 8s 1s/step - loss: 0.1629 - accuracy: 0.9126 - val_loss: 0.1656 - val_accuracy: 0.9169\n",
            "Epoch 27/100\n",
            "7/7 [==============================] - 8s 1s/step - loss: 0.1605 - accuracy: 0.9124 - val_loss: 0.1855 - val_accuracy: 0.9020\n",
            "Epoch 28/100\n",
            "7/7 [==============================] - 8s 1s/step - loss: 0.1652 - accuracy: 0.9107 - val_loss: 0.1267 - val_accuracy: 0.9279\n",
            "Epoch 29/100\n",
            "7/7 [==============================] - 8s 1s/step - loss: 0.1489 - accuracy: 0.9163 - val_loss: 0.1186 - val_accuracy: 0.9271\n",
            "Epoch 30/100\n",
            "7/7 [==============================] - 8s 1s/step - loss: 0.1368 - accuracy: 0.9206 - val_loss: 0.1087 - val_accuracy: 0.9319\n",
            "Epoch 31/100\n",
            "7/7 [==============================] - 8s 1s/step - loss: 0.1277 - accuracy: 0.9239 - val_loss: 0.1071 - val_accuracy: 0.9301\n",
            "Epoch 32/100\n",
            "7/7 [==============================] - 8s 1s/step - loss: 0.1250 - accuracy: 0.9246 - val_loss: 0.1039 - val_accuracy: 0.9322\n",
            "Epoch 33/100\n",
            "7/7 [==============================] - 8s 1s/step - loss: 0.1152 - accuracy: 0.9274 - val_loss: 0.0988 - val_accuracy: 0.9343\n",
            "Epoch 34/100\n",
            "7/7 [==============================] - 8s 1s/step - loss: 0.1060 - accuracy: 0.9303 - val_loss: 0.1095 - val_accuracy: 0.9308\n",
            "Epoch 35/100\n",
            "7/7 [==============================] - 8s 1s/step - loss: 0.1068 - accuracy: 0.9301 - val_loss: 0.0902 - val_accuracy: 0.9373\n",
            "Epoch 36/100\n",
            "7/7 [==============================] - 8s 1s/step - loss: 0.1144 - accuracy: 0.9273 - val_loss: 0.0983 - val_accuracy: 0.9338\n",
            "Epoch 37/100\n",
            "7/7 [==============================] - 8s 1s/step - loss: 0.1152 - accuracy: 0.9278 - val_loss: 0.0917 - val_accuracy: 0.9354\n",
            "Epoch 38/100\n",
            "7/7 [==============================] - 8s 1s/step - loss: 0.0998 - accuracy: 0.9329 - val_loss: 0.0842 - val_accuracy: 0.9385\n",
            "Epoch 39/100\n",
            "7/7 [==============================] - 8s 1s/step - loss: 0.0924 - accuracy: 0.9347 - val_loss: 0.0767 - val_accuracy: 0.9394\n",
            "Epoch 40/100\n",
            "7/7 [==============================] - 8s 1s/step - loss: 0.0871 - accuracy: 0.9367 - val_loss: 0.0857 - val_accuracy: 0.9383\n",
            "Epoch 41/100\n",
            "7/7 [==============================] - 8s 1s/step - loss: 0.0871 - accuracy: 0.9370 - val_loss: 0.0800 - val_accuracy: 0.9405\n",
            "Epoch 42/100\n",
            "7/7 [==============================] - 8s 1s/step - loss: 0.0886 - accuracy: 0.9364 - val_loss: 0.0694 - val_accuracy: 0.9419\n",
            "Epoch 43/100\n",
            "7/7 [==============================] - 8s 1s/step - loss: 0.0831 - accuracy: 0.9385 - val_loss: 0.0766 - val_accuracy: 0.9395\n",
            "Epoch 44/100\n",
            "7/7 [==============================] - 8s 1s/step - loss: 0.0756 - accuracy: 0.9405 - val_loss: 0.0747 - val_accuracy: 0.9401\n",
            "Epoch 45/100\n",
            "7/7 [==============================] - 8s 1s/step - loss: 0.0697 - accuracy: 0.9424 - val_loss: 0.0582 - val_accuracy: 0.9457\n",
            "Epoch 46/100\n",
            "7/7 [==============================] - 8s 1s/step - loss: 0.0686 - accuracy: 0.9429 - val_loss: 0.0612 - val_accuracy: 0.9442\n",
            "Epoch 47/100\n",
            "7/7 [==============================] - 8s 1s/step - loss: 0.0642 - accuracy: 0.9444 - val_loss: 0.0925 - val_accuracy: 0.9362\n",
            "Epoch 48/100\n",
            "7/7 [==============================] - 8s 1s/step - loss: 0.0704 - accuracy: 0.9426 - val_loss: 0.0615 - val_accuracy: 0.9452\n",
            "Epoch 49/100\n",
            "7/7 [==============================] - 8s 1s/step - loss: 0.0663 - accuracy: 0.9441 - val_loss: 0.0654 - val_accuracy: 0.9431\n",
            "Epoch 50/100\n",
            "7/7 [==============================] - 8s 1s/step - loss: 0.0628 - accuracy: 0.9449 - val_loss: 0.0584 - val_accuracy: 0.9454\n",
            "Epoch 51/100\n",
            "7/7 [==============================] - 8s 1s/step - loss: 0.0603 - accuracy: 0.9454 - val_loss: 0.0537 - val_accuracy: 0.9469\n",
            "Epoch 52/100\n",
            "7/7 [==============================] - 8s 1s/step - loss: 0.0586 - accuracy: 0.9463 - val_loss: 0.0631 - val_accuracy: 0.9442\n",
            "Epoch 53/100\n",
            "7/7 [==============================] - 8s 1s/step - loss: 0.0613 - accuracy: 0.9455 - val_loss: 0.0642 - val_accuracy: 0.9440\n",
            "Epoch 54/100\n",
            "7/7 [==============================] - 8s 1s/step - loss: 0.0560 - accuracy: 0.9473 - val_loss: 0.0577 - val_accuracy: 0.9457\n",
            "Epoch 55/100\n",
            "7/7 [==============================] - 8s 1s/step - loss: 0.0525 - accuracy: 0.9482 - val_loss: 0.0558 - val_accuracy: 0.9463\n",
            "Epoch 56/100\n",
            "7/7 [==============================] - 8s 1s/step - loss: 0.0541 - accuracy: 0.9477 - val_loss: 0.0687 - val_accuracy: 0.9438\n",
            "Epoch 57/100\n",
            "7/7 [==============================] - 8s 1s/step - loss: 0.0546 - accuracy: 0.9472 - val_loss: 0.0601 - val_accuracy: 0.9452\n",
            "Epoch 58/100\n",
            "7/7 [==============================] - 8s 1s/step - loss: 0.0487 - accuracy: 0.9495 - val_loss: 0.0552 - val_accuracy: 0.9470\n",
            "Epoch 59/100\n",
            "7/7 [==============================] - 8s 1s/step - loss: 0.0456 - accuracy: 0.9504 - val_loss: 0.0548 - val_accuracy: 0.9468\n",
            "Epoch 60/100\n",
            "7/7 [==============================] - 8s 1s/step - loss: 0.0473 - accuracy: 0.9497 - val_loss: 0.0565 - val_accuracy: 0.9467\n",
            "Epoch 61/100\n",
            "7/7 [==============================] - 8s 1s/step - loss: 0.0442 - accuracy: 0.9508 - val_loss: 0.0516 - val_accuracy: 0.9479\n",
            "Epoch 62/100\n",
            "7/7 [==============================] - 8s 1s/step - loss: 0.0424 - accuracy: 0.9513 - val_loss: 0.0495 - val_accuracy: 0.9483\n",
            "Epoch 63/100\n",
            "7/7 [==============================] - 8s 1s/step - loss: 0.0425 - accuracy: 0.9512 - val_loss: 0.0550 - val_accuracy: 0.9477\n",
            "Epoch 64/100\n",
            "7/7 [==============================] - 8s 1s/step - loss: 0.0435 - accuracy: 0.9510 - val_loss: 0.0535 - val_accuracy: 0.9472\n",
            "Epoch 65/100\n",
            "7/7 [==============================] - 8s 1s/step - loss: 0.0485 - accuracy: 0.9491 - val_loss: 0.0540 - val_accuracy: 0.9468\n",
            "Epoch 66/100\n",
            "7/7 [==============================] - 8s 1s/step - loss: 0.0669 - accuracy: 0.9437 - val_loss: 0.0615 - val_accuracy: 0.9450\n",
            "Epoch 67/100\n",
            "7/7 [==============================] - 8s 1s/step - loss: 0.0587 - accuracy: 0.9464 - val_loss: 0.0820 - val_accuracy: 0.9373\n",
            "Epoch 68/100\n",
            "7/7 [==============================] - 8s 1s/step - loss: 0.0645 - accuracy: 0.9449 - val_loss: 0.0515 - val_accuracy: 0.9471\n",
            "Epoch 69/100\n",
            "7/7 [==============================] - 8s 1s/step - loss: 0.0890 - accuracy: 0.9372 - val_loss: 0.0960 - val_accuracy: 0.9360\n",
            "Epoch 70/100\n",
            "7/7 [==============================] - 8s 1s/step - loss: 0.1011 - accuracy: 0.9317 - val_loss: 0.0864 - val_accuracy: 0.9373\n",
            "Epoch 71/100\n",
            "7/7 [==============================] - 8s 1s/step - loss: 0.1007 - accuracy: 0.9323 - val_loss: 0.0848 - val_accuracy: 0.9397\n",
            "Epoch 72/100\n",
            "7/7 [==============================] - 8s 1s/step - loss: 0.0836 - accuracy: 0.9396 - val_loss: 0.0727 - val_accuracy: 0.9420\n",
            "Epoch 73/100\n",
            "7/7 [==============================] - 8s 1s/step - loss: 0.0689 - accuracy: 0.9429 - val_loss: 0.0632 - val_accuracy: 0.9463\n",
            "Epoch 74/100\n",
            "7/7 [==============================] - 8s 1s/step - loss: 0.0581 - accuracy: 0.9469 - val_loss: 0.0596 - val_accuracy: 0.9454\n",
            "Epoch 75/100\n",
            "7/7 [==============================] - 8s 1s/step - loss: 0.0490 - accuracy: 0.9492 - val_loss: 0.0475 - val_accuracy: 0.9485\n",
            "Epoch 76/100\n",
            "7/7 [==============================] - 8s 1s/step - loss: 0.0441 - accuracy: 0.9507 - val_loss: 0.0480 - val_accuracy: 0.9493\n",
            "Epoch 77/100\n",
            "7/7 [==============================] - 8s 1s/step - loss: 0.0421 - accuracy: 0.9514 - val_loss: 0.0441 - val_accuracy: 0.9494\n",
            "Epoch 78/100\n",
            "7/7 [==============================] - 8s 1s/step - loss: 0.0377 - accuracy: 0.9528 - val_loss: 0.0474 - val_accuracy: 0.9494\n",
            "Epoch 79/100\n",
            "7/7 [==============================] - 8s 1s/step - loss: 0.0358 - accuracy: 0.9532 - val_loss: 0.0418 - val_accuracy: 0.9506\n",
            "Epoch 80/100\n",
            "7/7 [==============================] - 8s 1s/step - loss: 0.0354 - accuracy: 0.9533 - val_loss: 0.0434 - val_accuracy: 0.9500\n",
            "Epoch 81/100\n",
            "7/7 [==============================] - 8s 1s/step - loss: 0.0344 - accuracy: 0.9537 - val_loss: 0.0447 - val_accuracy: 0.9500\n",
            "Epoch 82/100\n",
            "7/7 [==============================] - 8s 1s/step - loss: 0.0342 - accuracy: 0.9537 - val_loss: 0.0446 - val_accuracy: 0.9501\n",
            "Epoch 83/100\n",
            "7/7 [==============================] - 8s 1s/step - loss: 0.0341 - accuracy: 0.9538 - val_loss: 0.0432 - val_accuracy: 0.9502\n",
            "Epoch 84/100\n",
            "7/7 [==============================] - 8s 1s/step - loss: 0.0327 - accuracy: 0.9541 - val_loss: 0.0412 - val_accuracy: 0.9508\n",
            "Epoch 85/100\n",
            "7/7 [==============================] - 8s 1s/step - loss: 0.0308 - accuracy: 0.9549 - val_loss: 0.0427 - val_accuracy: 0.9510\n",
            "Epoch 86/100\n",
            "7/7 [==============================] - 8s 1s/step - loss: 0.0296 - accuracy: 0.9551 - val_loss: 0.0435 - val_accuracy: 0.9506\n",
            "Epoch 87/100\n",
            "7/7 [==============================] - 8s 1s/step - loss: 0.0285 - accuracy: 0.9554 - val_loss: 0.0415 - val_accuracy: 0.9508\n",
            "Epoch 88/100\n",
            "7/7 [==============================] - 8s 1s/step - loss: 0.0282 - accuracy: 0.9555 - val_loss: 0.0397 - val_accuracy: 0.9511\n",
            "Epoch 89/100\n",
            "7/7 [==============================] - 8s 1s/step - loss: 0.0285 - accuracy: 0.9553 - val_loss: 0.0446 - val_accuracy: 0.9502\n",
            "Epoch 90/100\n",
            "7/7 [==============================] - 8s 1s/step - loss: 0.0279 - accuracy: 0.9556 - val_loss: 0.0444 - val_accuracy: 0.9507\n",
            "Epoch 91/100\n",
            "7/7 [==============================] - 8s 1s/step - loss: 0.0273 - accuracy: 0.9558 - val_loss: 0.0460 - val_accuracy: 0.9508\n",
            "Epoch 92/100\n",
            "7/7 [==============================] - 8s 1s/step - loss: 0.0271 - accuracy: 0.9558 - val_loss: 0.0459 - val_accuracy: 0.9510\n",
            "Epoch 93/100\n",
            "7/7 [==============================] - 8s 1s/step - loss: 0.0264 - accuracy: 0.9561 - val_loss: 0.0431 - val_accuracy: 0.9511\n",
            "Epoch 94/100\n",
            "7/7 [==============================] - 8s 1s/step - loss: 0.0266 - accuracy: 0.9560 - val_loss: 0.0404 - val_accuracy: 0.9514\n",
            "Epoch 95/100\n",
            "7/7 [==============================] - 8s 1s/step - loss: 0.0258 - accuracy: 0.9562 - val_loss: 0.0422 - val_accuracy: 0.9511\n",
            "Epoch 96/100\n",
            "7/7 [==============================] - 8s 1s/step - loss: 0.0259 - accuracy: 0.9562 - val_loss: 0.0416 - val_accuracy: 0.9513\n",
            "Epoch 97/100\n",
            "7/7 [==============================] - 8s 1s/step - loss: 0.0252 - accuracy: 0.9563 - val_loss: 0.0450 - val_accuracy: 0.9507\n",
            "Epoch 98/100\n",
            "7/7 [==============================] - 8s 1s/step - loss: 0.0256 - accuracy: 0.9562 - val_loss: 0.0448 - val_accuracy: 0.9504\n",
            "Epoch 99/100\n",
            "7/7 [==============================] - 8s 1s/step - loss: 0.0262 - accuracy: 0.9560 - val_loss: 0.0417 - val_accuracy: 0.9511\n",
            "Epoch 100/100\n",
            "7/7 [==============================] - 8s 1s/step - loss: 0.0256 - accuracy: 0.9562 - val_loss: 0.0399 - val_accuracy: 0.9518\n"
          ]
        }
      ]
    },
    {
      "cell_type": "code",
      "source": [
        "pred = model.predict(test_images)\n",
        "\n",
        "pred = (pred > 0.5).astype(np.uint8)\n",
        "plt.imshow(np.squeeze(pred[0]))"
      ],
      "metadata": {
        "colab": {
          "base_uri": "https://localhost:8080/",
          "height": 287
        },
        "id": "GLRUtxtIv-iz",
        "outputId": "24e8ffd0-922b-4358-cf81-264e575e250e"
      },
      "execution_count": 13,
      "outputs": [
        {
          "output_type": "execute_result",
          "data": {
            "text/plain": [
              "<matplotlib.image.AxesImage at 0x7f8cca1de210>"
            ]
          },
          "metadata": {},
          "execution_count": 13
        },
        {
          "output_type": "display_data",
          "data": {
            "text/plain": [
              "<Figure size 432x288 with 1 Axes>"
            ],
            "image/png": "[encoded data removed]"
          },
          "metadata": {
            "needs_background": "light"
          }
        }
      ]
    },
    {
      "cell_type": "code",
      "source": [
        "plt.imshow(np.squeeze(pred[7]))"
      ],
      "metadata": {
        "colab": {
          "base_uri": "https://localhost:8080/",
          "height": 287
        },
        "id": "7Uvu2oEAx1qh",
        "outputId": "83acea37-f469-48aa-8c1f-0519272b9d50"
      },
      "execution_count": 18,
      "outputs": [
        {
          "output_type": "execute_result",
          "data": {
            "text/plain": [
              "<matplotlib.image.AxesImage at 0x7f8cb6304a10>"
            ]
          },
          "metadata": {},
          "execution_count": 18
        },
        {
          "output_type": "display_data",
          "data": {
            "text/plain": [
              "<Figure size 432x288 with 1 Axes>"
            ],
            "image/png": "[encoded data removed]"
          },
          "metadata": {
            "needs_background": "light"
          }
        }
      ]
    }
  ]
}